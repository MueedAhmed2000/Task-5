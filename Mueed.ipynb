{
  "nbformat": 4,
  "nbformat_minor": 0,
  "metadata": {
    "colab": {
      "provenance": []
    },
    "kernelspec": {
      "name": "python3",
      "display_name": "Python 3"
    },
    "language_info": {
      "name": "python"
    }
  },
  "cells": [
    {
      "cell_type": "code",
      "execution_count": 2,
      "metadata": {
        "id": "BbWoqClQt0FU"
      },
      "outputs": [],
      "source": [
        "from collections import deque\n",
        "\n",
        "def suggest_friends(graph, user):\n",
        "    visited = set()\n",
        "    queue = deque()\n",
        "    level = {user: 0}\n",
        "\n",
        "    queue.append(user)\n",
        "    visited.add(user)\n",
        "\n",
        "    suggestions = set()\n",
        "\n",
        "    while queue:\n",
        "        current = queue.popleft()\n",
        "        current_level = level[current]\n",
        "\n",
        "        if current_level >= 2:\n",
        "            continue\n",
        "\n",
        "        for friend in graph.get(current, []):\n",
        "            if friend not in visited:\n",
        "                level[friend] = current_level + 1\n",
        "                queue.append(friend)\n",
        "                visited.add(friend)\n",
        "\n",
        "                if level[friend] == 2 and friend not in graph[user]:\n",
        "                    suggestions.add(friend)\n",
        "\n",
        "    return suggestions\n"
      ]
    },
    {
      "cell_type": "code",
      "source": [
        "graph = {\n",
        "    'Ali': ['Bilal', 'Chaudhry'],\n",
        "    'Bilal': ['Ali', 'Daud', 'Ehsan'],\n",
        "    'Chaudhry': ['Ali', 'Farhan'],\n",
        "    'Daud': ['Bilal'],\n",
        "    'Ehsan': ['Bilal'],\n",
        "    'Farhan': ['Chaudhry']\n",
        "}\n",
        "\n",
        "print(suggest_friends(graph, 'Ali'))\n"
      ],
      "metadata": {
        "colab": {
          "base_uri": "https://localhost:8080/"
        },
        "id": "dWnHzSCMuhib",
        "outputId": "549ca8c0-b2cf-481e-8d32-d68d5012dfed"
      },
      "execution_count": 7,
      "outputs": [
        {
          "output_type": "stream",
          "name": "stdout",
          "text": [
            "{'Farhan', 'Ehsan', 'Daud'}\n"
          ]
        }
      ]
    },
    {
      "cell_type": "code",
      "source": [
        "def dfs_paths(graph, start, goal, path=None):\n",
        "    if path is None:\n",
        "        path = [start]\n",
        "    if start == goal:\n",
        "        return [path]\n",
        "\n",
        "    paths = []\n",
        "    for neighbor in graph.get(start, []):\n",
        "        if neighbor not in path:\n",
        "            new_paths = dfs_paths(graph, neighbor, goal, path + [neighbor])\n",
        "            for p in new_paths:\n",
        "                paths.append(p)\n",
        "    return paths\n"
      ],
      "metadata": {
        "id": "tfi_gtr-4z7a"
      },
      "execution_count": 9,
      "outputs": []
    },
    {
      "cell_type": "code",
      "source": [
        "start_city = 'Islamabad'\n",
        "end_city = 'Multan'\n",
        "all_paths = dfs_paths(city_graph, start_city, end_city)\n",
        "\n",
        "print(f\"Paths from {start_city} to {end_city}:\")\n",
        "for path in all_paths:\n",
        "    print(\" -> \".join(path))\n"
      ],
      "metadata": {
        "colab": {
          "base_uri": "https://localhost:8080/"
        },
        "id": "qlY5G0UX5SoS",
        "outputId": "eb7cbee0-afa4-45ca-8590-496ccda051f1"
      },
      "execution_count": 13,
      "outputs": [
        {
          "output_type": "stream",
          "name": "stdout",
          "text": [
            "Paths from Islamabad to Multan:\n",
            "Islamabad -> Lahore -> Multan\n"
          ]
        }
      ]
    },
    {
      "cell_type": "code",
      "source": [
        "city_graph = {\n",
        "    'Islamabad': ['Lahore', 'Peshawar'],\n",
        "    'Lahore': ['Islamabad', 'Multan', 'Faisalabad'],\n",
        "    'Multan': ['Lahore'],\n",
        "    'Faisalabad': ['Lahore'],\n",
        "    'Peshawar': ['Islamabad', 'Quetta'],\n",
        "    'Quetta': ['Peshawar']\n",
        "}\n"
      ],
      "metadata": {
        "id": "CGfIb7GC5bhb"
      },
      "execution_count": 14,
      "outputs": []
    },
    {
      "cell_type": "code",
      "source": [
        "# Define the graph as adjacency list\n",
        "graph = {\n",
        "    3: [1, 5],\n",
        "    1: [0, 2],\n",
        "    5: [4, 6],\n",
        "    0: [],\n",
        "    2: [],\n",
        "    4: [],\n",
        "    6: []\n",
        "}\n",
        "\n",
        "# Node to city name mapping\n",
        "city_names = {\n",
        "    0: 'Karachi',\n",
        "    1: 'Lahore',\n",
        "    2: 'Faisalabad',\n",
        "    3: 'Islamabad',\n",
        "    4: 'Multan',\n",
        "    5: 'Peshawar',\n",
        "    6: 'Quetta'\n",
        "}\n",
        "\n",
        "# Recursive DFS with tree-style formatting\n",
        "def print_dfs_tree(node, graph, visited=None, prefix=\"\", is_last=True):\n",
        "    if visited is None:\n",
        "        visited = set()\n",
        "\n",
        "    visited.add(node)\n",
        "\n",
        "    connector = \" \" if is_last else \"/\\ \"\n",
        "    print(prefix + connector + f\"{node} ({city_names[node]})\")\n",
        "\n",
        "    children = graph[node]\n",
        "    for i, child in enumerate(children):\n",
        "        is_last_child = (i == len(children) - 1)\n",
        "        new_prefix = prefix + (\"    \" if is_last else \"   \")\n",
        "        if child not in visited:\n",
        "            print_dfs_tree(child, graph, visited, new_prefix, is_last_child)\n",
        "\n",
        "# Start DFS from node 3 (Islamabad)\n",
        "print(\"DFS Tree from node 3 (Islamabad):\")\n",
        "print_dfs_tree(3, graph)\n"
      ],
      "metadata": {
        "colab": {
          "base_uri": "https://localhost:8080/"
        },
        "id": "2CeyuQ636Xv2",
        "outputId": "0f32589e-b942-4a03-b88d-0d84b644a289"
      },
      "execution_count": 25,
      "outputs": [
        {
          "output_type": "stream",
          "name": "stdout",
          "text": [
            "DFS Tree from node 3 (Islamabad):\n",
            " 3 (Islamabad)\n",
            "    /\\ 1 (Lahore)\n",
            "       /\\ 0 (Karachi)\n",
            "        2 (Faisalabad)\n",
            "     5 (Peshawar)\n",
            "        /\\ 4 (Multan)\n",
            "         6 (Quetta)\n"
          ]
        }
      ]
    },
    {
      "cell_type": "code",
      "source": [
        "from queue import PriorityQueue\n",
        "\n",
        "def heuristic(a, b):\n",
        "    return abs(a[0] - b[0]) + abs(a[1] - b[1])\n",
        "\n",
        "def a_star_search(grid, start, goal):\n",
        "    rows, cols = len(grid), len(grid[0])\n",
        "    open_set = PriorityQueue()\n",
        "    open_set.put((0, start))\n",
        "    came_from = {}\n",
        "    g_score = {start: 0}\n",
        "\n",
        "    while not open_set.empty():\n",
        "        _, current = open_set.get()\n",
        "        if current == goal:\n",
        "            path = []\n",
        "            while current in came_from:\n",
        "                path.append(current)\n",
        "                current = came_from[current]\n",
        "            path.append(start)\n",
        "            return path[::-1]\n",
        "\n",
        "        for dx, dy in [(-1,0), (1,0), (0,-1), (0,1)]:\n",
        "            neighbor = (current[0] + dx, current[1] + dy)\n",
        "            if 0 <= neighbor[0] < rows and 0 <= neighbor[1] < cols:\n",
        "                if grid[neighbor[0]][neighbor[1]] != '#':\n",
        "                    temp_g = g_score[current] + 1\n",
        "                    if neighbor not in g_score or temp_g < g_score[neighbor]:\n",
        "                        g_score[neighbor] = temp_g\n",
        "                        f_score = temp_g + heuristic(neighbor, goal)\n",
        "                        open_set.put((f_score, neighbor))\n",
        "                        came_from[neighbor] = current\n",
        "    return None\n"
      ],
      "metadata": {
        "id": "7qFQPa357OvM"
      },
      "execution_count": 20,
      "outputs": []
    },
    {
      "cell_type": "code",
      "source": [
        "warehouse = [\n",
        "    ['S', '.', '.', '.', '.'],\n",
        "    ['#', '#', '.', '#', '.'],\n",
        "    ['.', '.', '.', '#', '.'],\n",
        "    ['.', '#', '#', '.', '.'],\n",
        "    ['.', '.', '.', '.', 'E']\n",
        "]\n",
        "\n",
        "start = (0, 0)\n",
        "end = (4, 4)\n",
        "path = a_star_search(warehouse, start, end)\n",
        "\n",
        "# Mark path\n",
        "if path:\n",
        "    for x, y in path:\n",
        "        if warehouse[x][y] not in ['S', 'E']:\n",
        "            warehouse[x][y] = '*'\n",
        "\n",
        "# Print grid\n",
        "for row in warehouse:\n",
        "    print(\" \".join(row))\n"
      ],
      "metadata": {
        "colab": {
          "base_uri": "https://localhost:8080/"
        },
        "id": "bRhZFHjh7boI",
        "outputId": "b433b62c-f64e-42e3-a0eb-0893d0967a3a"
      },
      "execution_count": 21,
      "outputs": [
        {
          "output_type": "stream",
          "name": "stdout",
          "text": [
            "S * * * *\n",
            "# # . # *\n",
            ". . . # *\n",
            ". # # . *\n",
            ". . . . E\n"
          ]
        }
      ]
    }
  ]
}